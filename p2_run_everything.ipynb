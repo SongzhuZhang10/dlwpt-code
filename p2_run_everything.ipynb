{
 "cells": [
  {
   "cell_type": "code",
   "execution_count": null,
   "metadata": {},
   "outputs": [],
   "source": [
    "import datetime\n",
    "\n",
    "from util.util import importstr\n",
    "from util.logconf import logging\n",
    "log = logging.getLogger('nb')"
   ]
  },
  {
   "cell_type": "code",
   "execution_count": null,
   "metadata": {},
   "outputs": [],
   "source": [
    "def run(app, *argv):\n",
    "    argv = list(argv)\n",
    "    argv.insert(0, '--num-workers=4')\n",
    "    log.info(\"Running: {}({!r}).main()\".format(app, argv))\n",
    "    \n",
    "    app_cls = importstr(*app.rsplit('.', 1))\n",
    "    app_cls(argv).main()\n",
    "    \n",
    "    log.info(\"Finished: {}.{!r}).main()\".format(app, argv))"
   ]
  },
  {
   "cell_type": "code",
   "execution_count": null,
   "metadata": {},
   "outputs": [],
   "source": [
    "import os\n",
    "import shutil\n",
    "\n",
    "# clean up any old data that might be around.\n",
    "# We don't call this by default because it's destructive, \n",
    "# and would waste a lot of time if it ran when nothing \n",
    "# on the application side had changed.\n",
    "def cleanCache():\n",
    "    shutil.rmtree('data-unversioned/cache')\n",
    "    os.mkdir('data-unversioned/cache')\n",
    "\n",
    "# cleanCache()"
   ]
  },
  {
   "cell_type": "code",
   "execution_count": null,
   "metadata": {},
   "outputs": [],
   "source": [
    "training_epochs = 20\n",
    "experiment_epochs = 10\n",
    "final_epochs = 50\n",
    "\n",
    "training_epochs = 2\n",
    "experiment_epochs = 2\n",
    "final_epochs = 5"
   ]
  },
  {
   "cell_type": "markdown",
   "metadata": {},
   "source": [
    "## Chapter 11"
   ]
  },
  {
   "cell_type": "code",
   "execution_count": null,
   "metadata": {},
   "outputs": [],
   "source": [
    "run('p2ch11.prepcache.LunaPrepCacheApp')"
   ]
  },
  {
   "cell_type": "code",
   "execution_count": null,
   "metadata": {},
   "outputs": [],
   "source": [
    "run('p2ch11.training.LunaTrainingApp', '--epochs=1')"
   ]
  },
  {
   "cell_type": "code",
   "execution_count": null,
   "metadata": {},
   "outputs": [],
   "source": [
    "run('p2ch11.training.LunaTrainingApp', f'--epochs={experiment_epochs}')"
   ]
  },
  {
   "cell_type": "markdown",
   "metadata": {},
   "source": [
    "## Chapter 12"
   ]
  },
  {
   "cell_type": "code",
   "execution_count": null,
   "metadata": {},
   "outputs": [],
   "source": [
    "run('p2ch12.prepcache.LunaPrepCacheApp')"
   ]
  },
  {
   "cell_type": "code",
   "execution_count": null,
   "metadata": {},
   "outputs": [],
   "source": [
    "run('p2ch12.training.LunaTrainingApp', '--epochs=1', 'unbalanced')"
   ]
  },
  {
   "cell_type": "code",
   "execution_count": null,
   "metadata": {},
   "outputs": [],
   "source": [
    "run('p2ch12.training.LunaTrainingApp', f'--epochs={training_epochs}', '--balanced', 'balanced')"
   ]
  },
  {
   "cell_type": "code",
   "execution_count": null,
   "metadata": {},
   "outputs": [],
   "source": [
    "run('p2ch12.training.LunaTrainingApp', f'--epochs={experiment_epochs}', '--balanced', '--augment-flip', 'flip')"
   ]
  },
  {
   "cell_type": "code",
   "execution_count": null,
   "metadata": {},
   "outputs": [],
   "source": [
    "run('p2ch12.training.LunaTrainingApp', f'--epochs={experiment_epochs}', '--balanced', '--augment-offset', 'offset')"
   ]
  },
  {
   "cell_type": "code",
   "execution_count": null,
   "metadata": {},
   "outputs": [],
   "source": [
    "run('p2ch12.training.LunaTrainingApp', f'--epochs={experiment_epochs}', '--balanced', '--augment-scale', 'scale')"
   ]
  },
  {
   "cell_type": "code",
   "execution_count": null,
   "metadata": {},
   "outputs": [],
   "source": [
    "run('p2ch12.training.LunaTrainingApp', f'--epochs={experiment_epochs}', '--balanced', '--augment-rotate', 'rotate')"
   ]
  },
  {
   "cell_type": "code",
   "execution_count": null,
   "metadata": {},
   "outputs": [],
   "source": [
    "run('p2ch12.training.LunaTrainingApp', f'--epochs={experiment_epochs}', '--balanced', '--augment-noise', 'noise')"
   ]
  },
  {
   "cell_type": "code",
   "execution_count": null,
   "metadata": {},
   "outputs": [],
   "source": [
    "run('p2ch12.training.LunaTrainingApp', f'--epochs={training_epochs}', '--balanced', '--augmented', 'fully-augmented')"
   ]
  },
  {
   "cell_type": "markdown",
   "metadata": {},
   "source": [
    "## Chapter 13"
   ]
  },
  {
   "cell_type": "markdown",
   "metadata": {},
   "source": [
    "You should run LunaPrepCacheApp once before training, unless:\n",
    "  - You are 100% sure that the disk cache already exists from previous runs.\n",
    "  - You're okay with longer initial load times and repeated I/O.\n",
    "\n",
    "Running LunaPrepCacheApp ensures:\n",
    "  - Faster training.\n",
    "  - Fewer I/O bottlenecks.\n",
    "  - All CT and mask data required by TrainingLuna2dSegmentationDataset are ready to go.\n",
    "\n",
    "Note:\n",
    "\n",
    "- LunaPrepCacheApp only affects data loading.\n",
    "- You don’t need to run LunaPrepCacheApp again after restart, if you've already run it once and did not delete the cache files on the disk."
   ]
  },
  {
   "cell_type": "code",
   "execution_count": null,
   "metadata": {},
   "outputs": [],
   "source": [
    "# Preload and cache expensive CT scan computations (like loading image volumes and masks) before training.\n",
    "run('p2ch13.prepcache.LunaPrepCacheApp')"
   ]
  },
  {
   "cell_type": "markdown",
   "metadata": {},
   "source": [
    "The final data augmentation configuration used is:\n",
    "flip = True, offset = 0.03, scale = 0.2, rotate = True, and noise = 25.0.\n",
    "\n",
    "When the offset value is increased from 0.03 to 0.1, while keeping all other parameters the same, the model's recall monotonically decreases starting from epoch 1.\n",
    "This behavior is undesirable and indicates that the model is highly sensitive to data augmentation settings.\n",
    "\n",
    "Epoch 3 is the most suitable choice for achieving optimal performance in this segmentation model, as it yields the highest recall value among all epochs.\n",
    "\n",
    "Recall reflects the model's ability to correctly identify as many true positive cases as possible. In the context of nodule detection, maintaining a high recall is critical—if a potential nodule is not detected, it cannot be classified or analyzed further.\n",
    "\n",
    "Therefore, maximizing recall is the top priority for this segmentation task, as failing to identify nodules at the segmentation stage would undermine the entire downstream diagnostic process.\n",
    "\n"
   ]
  },
  {
   "cell_type": "code",
   "execution_count": null,
   "metadata": {},
   "outputs": [],
   "source": [
    "\n",
    "seg_epochs = 12\n",
    "run('p2ch13.training.SegmentationTrainingApp', f'--epochs={seg_epochs}', '--augmented', 'seg')"
   ]
  },
  {
   "cell_type": "markdown",
   "metadata": {},
   "source": [
    "## Chapter 14"
   ]
  },
  {
   "cell_type": "code",
   "execution_count": null,
   "metadata": {},
   "outputs": [],
   "source": [
    "run('p2ch14.prepcache.LunaPrepCacheApp')"
   ]
  },
  {
   "cell_type": "markdown",
   "metadata": {},
   "source": [
    "## 📊 Best Epoch Selection Analysis (Epochs 5–30)\n",
    "\n",
    "This section presents an evaluation of model performance over epochs 5 to 30, based on validation metrics including F1 score, AUC, loss, precision, recall, and accuracy.\n",
    "\n",
    "---\n",
    "\n",
    "### 🔍 Summary Table of Validation Metrics\n",
    "\n",
    "| Epoch | F1 | AUC | Loss | Precision | Recall | Correct (%) |\n",
    "|:-----:|:------:|:-------:|:--------:|:---------:|:------:|:------------:|\n",
    "|   5   | 0.1296 |  0.9794 |  0.1315  |  0.0700   | 0.8831 |     96.5     |\n",
    "|  10   | 0.1049 |  0.9858 |  0.1556  |  0.0555   | 0.9610 |     95.1     |\n",
    "|  15   | 0.1552 |  0.9893 |  0.1116  |  0.0845   | 0.9481 |     96.9     |\n",
    "|  20   | 0.2367 |  0.9930 |  0.0700  |  0.1354   | 0.9416 |     98.2     |\n",
    "|  25   | **0.2689** | **0.9913** | **0.0572** | **0.1574** | 0.9221 | **98.5** |\n",
    "|  30   | 0.2067 |  0.9893 |  0.0796  |  0.1161   | 0.9416 |     97.8     |\n",
    "\n",
    "---\n",
    "\n",
    "### ✅ Selected Best Epoch: **Epoch 25**\n",
    "\n",
    "#### Justification:\n",
    "\n",
    "- **F1 Score**: `0.2689` — the highest across all epochs, indicating optimal balance between precision and recall.\n",
    "- **Validation Loss**: `0.0572` — the lowest, reflecting strong predictive confidence.\n",
    "- **Precision**: `0.1574` — highest among all epochs, minimizing false positives.\n",
    "- **Recall**: `0.9221` — excellent recall, capturing most positive cases.\n",
    "- **Correct**: `98.5%` — highest validation accuracy in the evaluated range.\n",
    "- **AUC**: `0.9913` — near-perfect discrimination ability between classes.\n",
    "\n",
    "#### Comparative Notes:\n",
    "\n",
    "- **Epoch 20** is strong but has slightly lower F1 and precision than Epoch 25.\n",
    "- **Epochs 5–15** show underdeveloped performance with significantly lower precision and F1.\n",
    "- **Epoch 30** shows a **decline** in F1 score, suggesting performance peaked earlier.\n",
    "\n",
    "---\n",
    "\n",
    "### 📌 Conclusion\n",
    "\n",
    "> **Epoch 25** yields the best validation performance across all major metrics.  \n",
    "> It is recommended to use the model checkpoint saved at **epoch 25** for deployment or further fine-tuning."
   ]
  },
  {
   "cell_type": "code",
   "execution_count": null,
   "metadata": {},
   "outputs": [],
   "source": [
    "cls_epochs = 20\n",
    "run('p2ch14.training.ClassificationTrainingApp', f'--epochs={cls_epochs}', 'cls')"
   ]
  },
  {
   "cell_type": "code",
   "execution_count": null,
   "metadata": {},
   "outputs": [],
   "source": [
    "cls_epochs = 50\n",
    "run(\n",
    "  'p2ch14.training.ClassificationTrainingApp',\n",
    "  f'--epochs={cls_epochs}',\n",
    "  r'--resume-from=data-unversioned\\part2\\models\\p2ch14\\cls_2025-05-23_13.40.10_e20_1000000_best.state',\n",
    "  'cls'\n",
    ")"
   ]
  },
  {
   "cell_type": "markdown",
   "metadata": {},
   "source": [
    "### 📊 **Malignant Nodule Analysis Model Trained by Fine-tuning the Last Block**\n",
    "\n",
    "\n",
    "| Epoch |  Loss  | Accuracy (%) | Precision | Recall | F1 Score |  AUC   |\n",
    "|-------|--------|---------------|-----------|--------|----------|--------|\n",
    "| 1     | 0.6486 | 72.1          | 0.5789    | 0.6346 | 0.6055   | 0.7192 |\n",
    "| 2     | 0.6755 | 72.1          | 0.5738    | 0.6731 | 0.6195   | 0.7283 |\n",
    "| 3     | 0.6694 | 71.4          | 0.5645    | 0.6731 | 0.6140   | 0.7380 |\n",
    "| 4     | 0.6625 | 72.7          | 0.5833    | 0.6731 | 0.6250   | 0.7483 |\n",
    "| 5     | 0.6472 | 74.0          | 0.5968    | 0.7115 | 0.6491   | 0.7559 |\n",
    "| 6     | 0.6327 | 74.7          | 0.6066    | 0.7115 | 0.6549   | 0.7628 |\n",
    "| 7     | 0.6248 | 74.7          | 0.6066    | 0.7115 | 0.6549   | 0.7685 |\n",
    "| 8     | 0.6152 | 74.7          | 0.6066    | 0.7115 | 0.6549   | 0.7722 |\n",
    "| 9     | 0.6074 | 74.7          | 0.6066    | 0.7115 | 0.6549   | 0.7758 |\n",
    "| 10    | 0.5934 | 74.7          | 0.6102    | 0.6923 | 0.6486   | 0.7810 |\n",
    "| 11    | 0.5836 | 75.3          | 0.6207    | 0.6923 | 0.6545   | 0.7836 |\n",
    "| 12    | 0.5860 | 75.3          | 0.6167    | 0.7115 | 0.6607   | 0.7871 |\n",
    "| 13    | 0.5801 | 76.0          | 0.6230    | 0.7308 | 0.6726   | 0.7886 |\n",
    "| 14    | 0.5779 | 76.0          | 0.6230    | 0.7308 | 0.6726   | 0.7913 |\n",
    "| 15    | 0.5662 | 76.0          | 0.6271    | 0.7115 | 0.6667   | 0.7950 |\n",
    "| 16    | 0.5577 | 77.3          | 0.6491    | 0.7115 | 0.6789   | 0.7973 |\n",
    "| 17    | 0.5542 | 76.6          | 0.6379    | 0.7115 | 0.6727   | 0.7996 |\n",
    "| 18    | 0.5526 | 76.0          | 0.6271    | 0.7115 | 0.6667   | 0.8023 |\n",
    "| 19    | 0.5477 | 76.6          | 0.6379    | 0.7115 | 0.6727   | 0.8032 |\n",
    "| 20    | 0.5475 | 76.6          | 0.6379    | 0.7115 | 0.6727   | 0.8043 |\n",
    "| 21    | 0.5406 | 76.0          | 0.6316    | 0.6923 | 0.6606   | 0.8064 |\n",
    "| 22    | 0.5344 | 76.0          | 0.6316    | 0.6923 | 0.6606   | 0.8086 |\n",
    "| 23    | 0.5382 | 76.0          | 0.6316    | 0.6923 | 0.6606   | 0.8092 |\n",
    "| 24    | 0.5286 | 76.6          | 0.6429    | 0.6923 | 0.6667   | 0.8112 |\n",
    "| 25    | 0.5289 | 77.9          | 0.6667    | 0.6923 | 0.6792   | 0.8122 |\n",
    "\n",
    "\n",
    "The AUC is the top priority in evaluating the performane of this model. It seems that the AUC will consistently increase as the epoch increases."
   ]
  },
  {
   "cell_type": "code",
   "execution_count": null,
   "metadata": {},
   "outputs": [],
   "source": [
    "cls_epochs = 25\n",
    "run(\n",
    "  'p2ch14.training.ClassificationTrainingApp',\n",
    "  f'--epochs={cls_epochs}',\n",
    "  '--dataset=MalignantLunaDataset',\n",
    "  '--malignant',\n",
    "  r'--pretrained-model-path=data-unversioned\\part2\\models\\p2ch14\\cls_2025-05-23_16.12.19_e25_1250000_best.state',\n",
    "  '--finetune-depth=1',\n",
    "  'ft_depth1'\n",
    ")"
   ]
  },
  {
   "cell_type": "markdown",
   "metadata": {},
   "source": [
    "### 📊 **Malignant Nodule Analysis Model trained by fine-tuning the last two Blocks**\n",
    "\n",
    "The validation results show that **Epoch 11** as the most balanced and high-performing checkpoint.\n",
    "\n",
    "\n",
    "| Epoch | Loss       | Correct % | Precision  | Recall | F1 Score   | AUC        |\n",
    "| ----- | ---------- | --------- | ---------- | ------ | ---------- | ---------- |\n",
    "| 1     | 0.4551     | 81.2     | 0.6825     | 0.8269 | 0.7478     | 0.8780     |\n",
    "| 2     | 0.4343     | 82.5     | 0.6984     | 0.8462 | 0.7652     | 0.8857     |\n",
    "| 3     | 0.6083     | 74.0     | 0.5750     | 0.8846 | 0.6970     | 0.8864     |\n",
    "| 4     | 0.3588     | **86.4** | **0.8039** | 0.7885 | 0.7961     | 0.9122     |\n",
    "| 5     | 0.3685     | 84.4     | 0.8043     | 0.7115 | 0.7551     | 0.8994     |\n",
    "| 6     | 0.3848     | 83.8     | 0.7647     | 0.7500 | 0.7573     | 0.9014     |\n",
    "| 7     | 0.4695     | 78.6     | 0.6377     | 0.8462 | 0.7273     | 0.8999     |\n",
    "| 8     | 0.3906     | 84.4     | 0.7414     | 0.8269 | 0.7818     | 0.9098     |\n",
    "| 9     | 0.3737     | 85.1     | 0.7843     | 0.7692 | 0.7767     | 0.9082     |\n",
    "| 10    | 0.4129     | 83.1     | 0.7097     | 0.8462 | 0.7719     | 0.9128     |\n",
    "| 11    | **0.3572** | **86.4** | **0.8039** | 0.7885 | **0.7961** | **0.9154** |\n",
    "| 12    | 0.4025     | 83.8     | 0.7288     | 0.8269 | 0.7748     | 0.9033     |\n",
    "| 13    | 0.4346     | 80.5     | 0.6667     | 0.8462 | 0.7458     | 0.9070     |\n",
    "| 14    | 0.4744     | 81.8     | 0.6765     | 0.8846 | 0.7667     | 0.9088     |\n",
    "| 15    | 0.3868     | 84.4     | 0.7500     | 0.8077 | 0.7778     | 0.9134     |\n",
    "| 16    | 0.3885     | 84.4     | 0.7500     | 0.8077 | 0.7778     | 0.9088     |\n",
    "\n",
    "---\n",
    "\n",
    "### Recommended Epoch: **Epoch 11**\n",
    "\n",
    "### Justification:\n",
    "\n",
    "* **Lowest validation loss**: Epoch 11 has the lowest loss (0.3572), indicating a better overall model performance on unseen data.\n",
    "* **High accuracy**: Tied highest correct percentage (86.4%).\n",
    "* **Best precision**: Highest precision (0.8039), equal to Epoch 4.\n",
    "* **Strong recall and F1-score**: Recall (0.7885) and F1-score (0.7961) are among the highest, balancing precision and recall effectively.\n",
    "* **Highest AUC**: Best ROC-AUC value (0.9154), reflecting robust overall predictive capability.\n",
    "\n",
    "Epoch 11 strikes the best balance across all performance metrics, indicating it is the optimal choice for final model deployment."
   ]
  },
  {
   "cell_type": "code",
   "execution_count": null,
   "metadata": {
    "scrolled": true
   },
   "outputs": [],
   "source": [
    "cls_epochs = 40\n",
    "run(\n",
    "  'p2ch14.training.ClassificationTrainingApp',\n",
    "  f'--epochs={cls_epochs}',\n",
    "  '--dataset=MalignantLunaDataset',\n",
    "  '--malignant',\n",
    "  r'--pretrained-model-path=data-unversioned\\part2\\models\\p2ch14\\cls_2025-05-23_16.12.19_e25_1250000_best.state',\n",
    "  '--finetune-depth=2',\n",
    "  'ft_depth2'\n",
    ")"
   ]
  },
  {
   "cell_type": "markdown",
   "metadata": {},
   "source": [
    "# Final Diagnostic Results for Nodule Analysis\n",
    "\n",
    "## Understanding the Confusion Matrix\n",
    "\n",
    "**Rows (Ground Truth Labels):**\n",
    "\n",
    "* **Row 0:** Non-nodule (no annotation)\n",
    "* **Row 1:** Benign nodule\n",
    "* **Row 2:** Malignant nodule\n",
    "\n",
    "**Columns (Detection Outcomes):**\n",
    "\n",
    "* **Column 0:** Not detected (Complete Miss)\n",
    "* **Column 1:** Detected but filtered out by segmentation\n",
    "* **Column 2:** Detected and classified as benign\n",
    "* **Column 3:** Detected and classified as malignant\n",
    "\n",
    "### Confusion Matrix\n",
    "\n",
    "| Ground Truth \\ Detection Result | Complete Miss | Filtered Out | Pred. Benign | Pred. Malignant |\n",
    "| ------------------------------- | ------------- | ------------ | ------------ | --------------- |\n",
    "| **Non-Nodules**                 | —             | 160,952      | 1,718        | 470             |\n",
    "| **Benign Nodules**              | 15            | 3            | 74           | 10              |\n",
    "| **Malignant Nodules**           | 2             | 6            | 8            | 36              |\n",
    "\n",
    "---\n",
    "\n",
    "## Interpretation of Results\n",
    "\n",
    "### Why is the \"Complete Miss\" Cell Blank for Non-Nodules?\n",
    "\n",
    "The \"Complete Miss\" cell for **Non-Nodules** is intentionally left blank because the concept of \"missing\" doesn't apply.\n",
    "\n",
    "* **Complete Miss** means:\n",
    "\n",
    "  * A real nodule (benign or malignant) existed.\n",
    "  * The segmentation model failed entirely to detect any candidate region at that location.\n",
    "\n",
    "Since **Non-Nodules** don't contain any actual nodules, it's impossible for the segmenter to \"miss\" something that doesn't exist. Therefore, this cell is not applicable.\n",
    "\n",
    "### Meaning of \"Filtered Out\"\n",
    "\n",
    "**\"Filtered Out\"** means:\n",
    "\n",
    "* The segmentation model (e.g., U-Net) detected a candidate region.\n",
    "* However, the candidate region was discarded based on filtering rules (e.g., size, shape, confidence).\n",
    "* Thus, these candidates never reached the classification stage.\n",
    "\n",
    "### Why Is the \"Filtered Out\" Number for Non-Nodules Large?\n",
    "\n",
    "The large number in the **Non-Nodules** \"Filtered Out\" cell indicates:\n",
    "\n",
    "* The segmenter identified many regions that were **false alarms** (regions not actually nodules).\n",
    "* The segmenter intentionally has high recall, meaning it detects many candidate regions to avoid missing true nodules.\n",
    "* Most false alarms are filtered out before reaching the classifier, significantly reducing false positives.\n",
    "\n",
    "---\n",
    "\n",
    "## Performance Metrics and Calculations\n",
    "\n",
    "### Nodule Counts\n",
    "\n",
    "* Number of benign nodules:\n",
    "  $15 + 3 + 74 + 10 = 102$\n",
    "\n",
    "* Number of malignant nodules:\n",
    "  $2 + 6 + 8 + 36 = 52$\n",
    "\n",
    "* Total true nodules:\n",
    "  $102 + 52 = 154$\n",
    "\n",
    "### Detection Metrics\n",
    "\n",
    "* Benign nodules detected by segmenter:\n",
    "  $74 + 10 = 84$\n",
    "\n",
    "* Malignant nodules detected by segmenter:\n",
    "  $8 + 36 = 44$\n",
    "\n",
    "* Total True Positives (TP) detected by segmentation:\n",
    "  $84 + 44 = 128$\n",
    "\n",
    "### Segmentation Recall\n",
    "\n",
    "$\\text{Recall} = \\frac{\\text{TP (Segmenter)}}{\\text{Total True Nodules}} = \\frac{128}{154} \\approx 0.83 \\ (83\\%)$\n",
    "\n",
    "### Malignant Detection Accuracy\n",
    "\n",
    "* Correctly classified malignant nodules:\n",
    "  $36 \\text{ (Predicted Malignant Correctly)}$\n",
    "\n",
    "$\\text{Malignant Detection Accuracy} = \\frac{36}{52} \\approx 0.69 \\ (69\\%)$\n",
    "\n",
    "### Segmentation Precision\n",
    "\n",
    "* False Positives (FP) by segmentation:\n",
    "  $1,718 + 470 = 2,188$\n",
    "\n",
    "$\\text{Precision} = \\frac{\\text{TP (Segmenter)}}{\\text{TP (Segmenter)} + \\text{FP (Segmenter)}} = \\frac{128}{128 + 2,188} \\approx 0.06 \\ (6\\%)$\n",
    "\n",
    "The low precision (6%) is intentional, as the primary goal of the segmentation model is to avoid missing any true nodules. To achieve high recall, the model deliberately detects many candidate regions, even if they include numerous false positives. Most of these false positives are subsequently eliminated by filtering rules based on criteria such as size, shape, or confidence.\n",
    "\n",
    "### False Negative Rate (Malignancy Model)\n",
    "\n",
    "* False Negatives (FN) for malignant nodules:\n",
    "  $52 - 36 = 16$\n",
    "\n",
    "$\\text{False Negative Rate} = \\frac{\\text{FN}}{\\text{Total Malignant Nodules}} = \\frac{16}{52} \\approx 0.307 \\ (30.7\\%)$\n",
    "\n",
    "---\n",
    "\n",
    "## Overall Assessment\n",
    "\n",
    "The current performance demonstrates reasonable recall (83%) and malignant classification accuracy (69%).\n",
    "\n",
    "While these results are insufficient for commercial medical AI deployment, they serve effectively as a foundation for learning, initial research, and model refinement."
   ]
  },
  {
   "cell_type": "code",
   "execution_count": null,
   "metadata": {},
   "outputs": [],
   "source": [
    "run(\n",
    "  'p2ch14.nodule_analysis.NoduleAnalysisApp',\n",
    "  '--run-validation',\n",
    "  r'--seg-path=data-unversioned\\part2\\models\\p2ch13\\seg_2025-05-24_15.23.31_e03_900000_best.state',\n",
    "  r'--cls-path=data-unversioned\\part2\\models\\p2ch14\\cls_2025-05-23_16.12.19_e25_1250000_best.state',\n",
    "  r'--mal-path=data-unversioned\\part2\\models\\p2ch14\\mal-finetune-depth-2_2025-05-23_18.19.25_e11_1100000_best.state',\n",
    ")"
   ]
  }
 ],
 "metadata": {
  "kernelspec": {
   "display_name": "Python 3 (ipykernel)",
   "language": "python",
   "name": "python3"
  },
  "language_info": {
   "codemirror_mode": {
    "name": "ipython",
    "version": 3
   },
   "file_extension": ".py",
   "mimetype": "text/x-python",
   "name": "python",
   "nbconvert_exporter": "python",
   "pygments_lexer": "ipython3",
   "version": "3.13.3"
  }
 },
 "nbformat": 4,
 "nbformat_minor": 4
}
